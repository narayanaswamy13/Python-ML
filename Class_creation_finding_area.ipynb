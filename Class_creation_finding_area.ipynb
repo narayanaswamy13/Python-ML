{
  "nbformat": 4,
  "nbformat_minor": 0,
  "metadata": {
    "colab": {
      "name": "Class_creation_finding_area.ipynb",
      "provenance": [],
      "authorship_tag": "ABX9TyNKfqh7+7BQWwRrgZGpkIBx",
      "include_colab_link": true
    },
    "kernelspec": {
      "name": "python3",
      "display_name": "Python 3"
    },
    "language_info": {
      "name": "python"
    }
  },
  "cells": [
    {
      "cell_type": "markdown",
      "metadata": {
        "id": "view-in-github",
        "colab_type": "text"
      },
      "source": [
        "<a href=\"https://colab.research.google.com/github/narayanaswamy13/Python_code_Snippets/blob/main/Class_creation_finding_area.ipynb\" target=\"_parent\"><img src=\"https://colab.research.google.com/assets/colab-badge.svg\" alt=\"Open In Colab\"/></a>"
      ]
    },
    {
      "cell_type": "code",
      "execution_count": 62,
      "metadata": {
        "id": "YgTm3mEylB0F"
      },
      "outputs": [],
      "source": [
        "class area:\n",
        "    def __init__ (self,length,bredth,height):\n",
        "      self.length = length\n",
        "      self.bredth = bredth\n",
        "      self.height = height     \n",
        "    def ThreeDim(self):\n",
        "      ThreeDim_area=eval('self.length*self.bredth*self.height')\n",
        "      if self.length==self.bredth&self.length==self.height:\n",
        "        print(\"cube area is\",ThreeDim_area,\"sq.mts\")        \n",
        "      else:\n",
        "        print(\"cuboid area is\",ThreeDim_area,\"sq.mts\")  \n",
        "    def TwoDim(self):\n",
        "      TwoDim_area=eval('self.length*self.bredth')\n",
        "      if self.length==self.bredth:\n",
        "        print(\"Square area is\",TwoDim_area,\"sq.mts\")        \n",
        "      else:\n",
        "        print(\"Rectangle area is\",TwoDim_area,\"sq.mts\")\n",
        "    def find_area(self):\n",
        "        if self.height==0:\n",
        "          area.TwoDim(self)\n",
        "        else:\n",
        "          area.ThreeDim(self)\n",
        "\n",
        "    "
      ]
    },
    {
      "cell_type": "code",
      "source": [
        "check=area(16,18,19)\n",
        "area.find_area(check)"
      ],
      "metadata": {
        "colab": {
          "base_uri": "https://localhost:8080/"
        },
        "id": "bF4_jIXKxiaL",
        "outputId": "8d2113d1-48c1-4f96-d6a5-896d411e0740"
      },
      "execution_count": 64,
      "outputs": [
        {
          "output_type": "stream",
          "name": "stdout",
          "text": [
            "cuboid area is 5472 sq.mts\n"
          ]
        }
      ]
    },
    {
      "cell_type": "code",
      "source": [
        ""
      ],
      "metadata": {
        "colab": {
          "base_uri": "https://localhost:8080/"
        },
        "id": "WkGxj_X12Dbl",
        "outputId": "191ccd04-5873-4371-b7e9-8df7ffde0453"
      },
      "execution_count": 42,
      "outputs": [
        {
          "output_type": "execute_result",
          "data": {
            "text/plain": [
              "15.277777777777779"
            ]
          },
          "metadata": {},
          "execution_count": 42
        }
      ]
    }
  ]
}