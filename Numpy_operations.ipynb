{
 "cells": [
  {
   "cell_type": "code",
   "execution_count": 1,
   "id": "ce1542ef-0a2c-4631-a1c8-20d2170f2c13",
   "metadata": {},
   "outputs": [],
   "source": [
    "#Importing numpy library\n",
    "import numpy as np"
   ]
  },
  {
   "cell_type": "markdown",
   "id": "49cffb34-4a60-43b6-8a3d-f7a13130e21a",
   "metadata": {},
   "source": [
    "# Creating and Reshaping Array's"
   ]
  },
  {
   "cell_type": "code",
   "execution_count": 2,
   "id": "240852a7-9100-4fe3-8ce0-b12fb381e171",
   "metadata": {},
   "outputs": [
    {
     "name": "stdout",
     "output_type": "stream",
     "text": [
      "[25 35 65 75]\n"
     ]
    }
   ],
   "source": [
    "#First arrayrank 1\n",
    "first_numpy_array=np.array([25,35,65,75])\n",
    "print(first_numpy_array)"
   ]
  },
  {
   "cell_type": "code",
   "execution_count": 3,
   "id": "9442a864-8317-4fcf-b9ec-23dbd14af01a",
   "metadata": {},
   "outputs": [
    {
     "name": "stdout",
     "output_type": "stream",
     "text": [
      "[[[0. 0.]\n",
      "  [0. 0.]\n",
      "  [0. 0.]\n",
      "  [0. 0.]\n",
      "  [0. 0.]]\n",
      "\n",
      " [[0. 0.]\n",
      "  [0. 0.]\n",
      "  [0. 0.]\n",
      "  [0. 0.]\n",
      "  [0. 0.]]\n",
      "\n",
      " [[0. 0.]\n",
      "  [0. 0.]\n",
      "  [0. 0.]\n",
      "  [0. 0.]\n",
      "  [0. 0.]]]\n"
     ]
    }
   ],
   "source": [
    "#array with zeroes\n",
    "numpy_zeroes_array=np.zeros([3,5,2])\n",
    "print(numpy_zeroes_array)"
   ]
  },
  {
   "cell_type": "code",
   "execution_count": 4,
   "id": "e57cc5f1-ce9d-4bba-8ac5-d9bb4a2b24ff",
   "metadata": {},
   "outputs": [
    {
     "name": "stdout",
     "output_type": "stream",
     "text": [
      "[[[1. 1. 1.]\n",
      "  [1. 1. 1.]\n",
      "  [1. 1. 1.]]\n",
      "\n",
      " [[1. 1. 1.]\n",
      "  [1. 1. 1.]\n",
      "  [1. 1. 1.]]\n",
      "\n",
      " [[1. 1. 1.]\n",
      "  [1. 1. 1.]\n",
      "  [1. 1. 1.]]]\n"
     ]
    }
   ],
   "source": [
    "#array with ones\n",
    "numpy_onces_array=np.ones([3,3,3])\n",
    "print(numpy_onces_array)"
   ]
  },
  {
   "cell_type": "code",
   "execution_count": 5,
   "id": "1ccd30a3-7c61-419e-a689-70fb3b008f7a",
   "metadata": {},
   "outputs": [
    {
     "name": "stdout",
     "output_type": "stream",
     "text": [
      "[[4.45057637e-308 1.78021527e-306 8.45549797e-307]\n",
      " [1.37962049e-306 1.11260619e-306 1.78010255e-306]\n",
      " [9.79054228e-307 4.45057637e-308 8.45596650e-307]\n",
      " [9.34602321e-307 4.94065646e-322 3.73623052e-061]]\n"
     ]
    }
   ],
   "source": [
    "#empty array with random numbers\n",
    "numpy_empty_array=np.empty([4,3])\n",
    "print(numpy_empty_array)"
   ]
  },
  {
   "cell_type": "code",
   "execution_count": 6,
   "id": "ec03a56b-c8e9-4d89-8acc-fd951167d32c",
   "metadata": {
    "tags": []
   },
   "outputs": [
    {
     "name": "stdout",
     "output_type": "stream",
     "text": [
      "[ 5.   5.5  6.   6.5  7.   7.5  8.   8.5  9.   9.5 10.  10.5 11.  11.5\n",
      " 12.  12.5 13.  13.5 14.  14.5 15.  15.5 16.  16.5 17.  17.5 18.  18.5\n",
      " 19.  19.5 20.  20.5]\n"
     ]
    }
   ],
   "source": [
    "#array created with arrange method\n",
    "np_arrange=np.arange(5,21,0.5)\n",
    "print(np_arrange)"
   ]
  },
  {
   "cell_type": "code",
   "execution_count": 22,
   "id": "9f812053-e972-4900-8579-f6ff1ae4725c",
   "metadata": {},
   "outputs": [
    {
     "data": {
      "text/plain": [
       "(32,)"
      ]
     },
     "execution_count": 22,
     "metadata": {},
     "output_type": "execute_result"
    }
   ],
   "source": [
    "#using Shape method\n",
    "np_arrange.shape"
   ]
  },
  {
   "cell_type": "code",
   "execution_count": 23,
   "id": "d75eb21d-c8e9-45ab-8a20-140d4c5505a9",
   "metadata": {},
   "outputs": [
    {
     "data": {
      "text/plain": [
       "array([[ 5. ,  5.5,  6. ,  6.5,  7. ,  7.5,  8. ,  8.5],\n",
       "       [ 9. ,  9.5, 10. , 10.5, 11. , 11.5, 12. , 12.5],\n",
       "       [13. , 13.5, 14. , 14.5, 15. , 15.5, 16. , 16.5],\n",
       "       [17. , 17.5, 18. , 18.5, 19. , 19.5, 20. , 20.5]])"
      ]
     },
     "execution_count": 23,
     "metadata": {},
     "output_type": "execute_result"
    }
   ],
   "source": [
    "#Using Reshape method\n",
    "np_arrange.reshape(4,8)"
   ]
  },
  {
   "cell_type": "code",
   "execution_count": 24,
   "id": "730cff06-e0b4-4d40-9305-61d14a50a354",
   "metadata": {},
   "outputs": [
    {
     "name": "stdout",
     "output_type": "stream",
     "text": [
      "[20. 40.]\n"
     ]
    }
   ],
   "source": [
    "#using linspace method\n",
    "np_linspace=np.linspace(20,40,2)\n",
    "print(np_linspace)"
   ]
  },
  {
   "cell_type": "code",
   "execution_count": 25,
   "id": "d0747651-3b0d-480c-a754-539226fd66b8",
   "metadata": {},
   "outputs": [
    {
     "data": {
      "text/plain": [
       "(1, 3)"
      ]
     },
     "execution_count": 25,
     "metadata": {},
     "output_type": "execute_result"
    }
   ],
   "source": [
    "#using ndim to identify dimensions of an array\n",
    "np_linspace.ndim, numpy_onces_array.ndim"
   ]
  },
  {
   "cell_type": "code",
   "execution_count": 26,
   "id": "148cbdff-6bc1-4482-9e38-cb6d7db167c1",
   "metadata": {},
   "outputs": [
    {
     "data": {
      "text/plain": [
       "((2,), (3, 5, 2))"
      ]
     },
     "execution_count": 26,
     "metadata": {},
     "output_type": "execute_result"
    }
   ],
   "source": [
    "#using shape to identify shape (dim,length, bredth of the array)\n",
    "np_linspace.shape,numpy_zeroes_array.shape"
   ]
  },
  {
   "cell_type": "code",
   "execution_count": 27,
   "id": "b4d3f18b-c997-47fc-8547-10995d3b76ce",
   "metadata": {},
   "outputs": [
    {
     "data": {
      "text/plain": [
       "(2, 30)"
      ]
     },
     "execution_count": 27,
     "metadata": {},
     "output_type": "execute_result"
    }
   ],
   "source": [
    "#using size to identify element count in an array\n",
    "np_linspace.size,numpy_zeroes_array.size"
   ]
  },
  {
   "cell_type": "code",
   "execution_count": 12,
   "id": "af81d1ca-f9b6-42be-9fe3-dc5d556fa43b",
   "metadata": {},
   "outputs": [
    {
     "data": {
      "text/plain": [
       "(dtype('float64'), dtype('float64'))"
      ]
     },
     "execution_count": 12,
     "metadata": {},
     "output_type": "execute_result"
    }
   ],
   "source": [
    "#using dtype to identify element data type in an array\n",
    "np_linspace.dtype,numpy_zeroes_array.dtype"
   ]
  },
  {
   "cell_type": "markdown",
   "id": "d67818be-dc31-40e0-a2d2-1cf753ef074d",
   "metadata": {},
   "source": [
    "# Various operators in Numpy"
   ]
  },
  {
   "cell_type": "code",
   "execution_count": 28,
   "id": "52d6920c-1393-48d5-9930-4f5e23c93621",
   "metadata": {},
   "outputs": [],
   "source": [
    "#creating example array's for conducting operations\n",
    "list1=np.array([2,3,4,5,6,7,8])\n",
    "list2=np.array([10,11,12,13,14,15,16])"
   ]
  },
  {
   "cell_type": "markdown",
   "id": "b0e982bd-0fc6-4a79-b91c-7b24f836e876",
   "metadata": {},
   "source": [
    "## Using Mathematical Operations in Array's"
   ]
  },
  {
   "cell_type": "code",
   "execution_count": 29,
   "id": "294f48e2-9fee-4328-8601-239281c79ec8",
   "metadata": {},
   "outputs": [
    {
     "name": "stdout",
     "output_type": "stream",
     "text": [
      "[12 14 16 18 20 22 24]\n"
     ]
    }
   ],
   "source": [
    "#addition\n",
    "added=np.add(list1,list2)\n",
    "print(added)"
   ]
  },
  {
   "cell_type": "code",
   "execution_count": 30,
   "id": "b00c3149-24ac-41b2-b3c5-2431cb433b88",
   "metadata": {},
   "outputs": [
    {
     "name": "stdout",
     "output_type": "stream",
     "text": [
      "[8 8 8 8 8 8 8]\n"
     ]
    }
   ],
   "source": [
    "#subtraction\n",
    "subtracted=np.subtract(list2,list1)\n",
    "print(subtracted)"
   ]
  },
  {
   "cell_type": "code",
   "execution_count": 31,
   "id": "8cb35c7d-777d-4009-9000-4b58bf261086",
   "metadata": {},
   "outputs": [
    {
     "name": "stdout",
     "output_type": "stream",
     "text": [
      "[20 30 40 50 60 70 80] [ 20  33  48  65  84 105 128]\n"
     ]
    }
   ],
   "source": [
    "##Multiply\n",
    "\n",
    "#multiply with constant\n",
    "multipp=list1*10\n",
    "\n",
    "#multiply array's\n",
    "multyy=list1*list2\n",
    "\n",
    "print(multipp,multyy)"
   ]
  },
  {
   "cell_type": "markdown",
   "id": "b95478aa-bd4d-4c1c-a333-dee19cf4cb30",
   "metadata": {},
   "source": [
    "## Using Comparision Operations in Array's"
   ]
  },
  {
   "cell_type": "code",
   "execution_count": 17,
   "id": "2b787a42-ebf6-4bc0-ad19-0d0a3ebca056",
   "metadata": {},
   "outputs": [],
   "source": [
    "#Posting array's again for visibility\n",
    "#list1=np.array([2,3,4,5,6,7,8])\n",
    "#list2=np.array([10,11,12,13,14,15,16])"
   ]
  },
  {
   "cell_type": "code",
   "execution_count": 18,
   "id": "841829cc-fdd5-4cfa-897f-fa9d6e5bacb0",
   "metadata": {},
   "outputs": [
    {
     "data": {
      "text/plain": [
       "array([6, 7, 8])"
      ]
     },
     "execution_count": 18,
     "metadata": {},
     "output_type": "execute_result"
    }
   ],
   "source": [
    "#using Greater than\n",
    "list1[list1>5]"
   ]
  },
  {
   "cell_type": "code",
   "execution_count": 19,
   "id": "171b1aa3-9a0f-4ad7-9033-6fde91a68f29",
   "metadata": {},
   "outputs": [
    {
     "data": {
      "text/plain": [
       "array([10, 11, 12, 13])"
      ]
     },
     "execution_count": 19,
     "metadata": {},
     "output_type": "execute_result"
    }
   ],
   "source": [
    "#using less than\n",
    "list2[list2<14]"
   ]
  },
  {
   "cell_type": "code",
   "execution_count": 33,
   "id": "6fd65756-09f3-4e97-9e44-07bc9dfea148",
   "metadata": {},
   "outputs": [
    {
     "data": {
      "text/plain": [
       "array([2, 3, 5, 6, 7, 8])"
      ]
     },
     "execution_count": 33,
     "metadata": {},
     "output_type": "execute_result"
    }
   ],
   "source": [
    "list1[list1!=4]"
   ]
  },
  {
   "cell_type": "markdown",
   "id": "2541a3b1-3053-4d36-b81b-51cf61f03ce5",
   "metadata": {},
   "source": [
    "## Using Logical Operations in Array's"
   ]
  },
  {
   "cell_type": "code",
   "execution_count": 43,
   "id": "1cb4b08a-c11a-422f-98c1-61221f57d903",
   "metadata": {},
   "outputs": [],
   "source": [
    "#Posting array's again for visibility\n",
    "#list1=np.array([2,3,4,5,6,7,8])\n",
    "#list2=np.array([10,11,12,13,14,15,16])"
   ]
  },
  {
   "cell_type": "code",
   "execution_count": 37,
   "id": "d990bbda-d997-437e-92ed-b2774f5ba907",
   "metadata": {},
   "outputs": [
    {
     "data": {
      "text/plain": [
       "array([False, False,  True,  True,  True,  True,  True])"
      ]
     },
     "execution_count": 37,
     "metadata": {},
     "output_type": "execute_result"
    }
   ],
   "source": [
    "#Using 'AND' Method\n",
    "np.logical_and(list1>3,list1<12)"
   ]
  },
  {
   "cell_type": "code",
   "execution_count": 44,
   "id": "3e04afc4-380e-4120-86c4-c011d149c9ea",
   "metadata": {},
   "outputs": [
    {
     "data": {
      "text/plain": [
       "array([ True,  True, False, False, False, False,  True])"
      ]
     },
     "execution_count": 44,
     "metadata": {},
     "output_type": "execute_result"
    }
   ],
   "source": [
    "#Using 'OR' Method\n",
    "np.logical_or(list2>15,list2<12)"
   ]
  },
  {
   "cell_type": "code",
   "execution_count": 46,
   "id": "be909c9d-d551-49c6-a110-c73aa858315b",
   "metadata": {},
   "outputs": [
    {
     "data": {
      "text/plain": [
       "array([False, False,  True,  True,  True,  True,  True])"
      ]
     },
     "execution_count": 46,
     "metadata": {},
     "output_type": "execute_result"
    }
   ],
   "source": [
    "#Using 'NOT' Method\n",
    "np.logical_not(list2<12)"
   ]
  },
  {
   "cell_type": "markdown",
   "id": "be1bb9ea-dc43-4f05-aeba-000778193191",
   "metadata": {},
   "source": [
    "## Accessing Array's "
   ]
  },
  {
   "cell_type": "code",
   "execution_count": 74,
   "id": "1f5cbab4-bf6b-4540-ae90-5148a4315dfe",
   "metadata": {},
   "outputs": [
    {
     "data": {
      "text/plain": [
       "array([[ 2,  3,  4,  5,  6,  7,  8],\n",
       "       [10, 11, 12, 13, 14, 15, 16]])"
      ]
     },
     "execution_count": 74,
     "metadata": {},
     "output_type": "execute_result"
    }
   ],
   "source": [
    "#Creating 2D array for Accessing learning\n",
    "list2d=np.array([list1,list2])\n",
    "list2d"
   ]
  },
  {
   "cell_type": "code",
   "execution_count": 77,
   "id": "9ce67f3e-ebda-41da-b47c-10426fffb15b",
   "metadata": {},
   "outputs": [
    {
     "data": {
      "text/plain": [
       "array([10, 11, 12, 13, 14, 15, 16])"
      ]
     },
     "execution_count": 77,
     "metadata": {},
     "output_type": "execute_result"
    }
   ],
   "source": [
    "#Accessing a particular row or dimension\n",
    "list2d[1]"
   ]
  },
  {
   "cell_type": "code",
   "execution_count": 80,
   "id": "75a87d82-8525-48c0-a9f4-c84cb4a6d97a",
   "metadata": {},
   "outputs": [
    {
     "data": {
      "text/plain": [
       "14"
      ]
     },
     "execution_count": 80,
     "metadata": {},
     "output_type": "execute_result"
    }
   ],
   "source": [
    "#Accessing a element in the array\n",
    "list2d[1,4]"
   ]
  },
  {
   "cell_type": "code",
   "execution_count": 82,
   "id": "d814f655-1685-4c5e-b70d-56a1c948ae8f",
   "metadata": {},
   "outputs": [
    {
     "data": {
      "text/plain": [
       "array([ 5, 13])"
      ]
     },
     "execution_count": 82,
     "metadata": {},
     "output_type": "execute_result"
    }
   ],
   "source": [
    "#Accessing a column of elements\n",
    "list2d[:,3]"
   ]
  },
  {
   "cell_type": "code",
   "execution_count": 84,
   "id": "c45e7185-778d-43da-8fd2-1ffe0b18c6a6",
   "metadata": {},
   "outputs": [
    {
     "data": {
      "text/plain": [
       "array([[ 4,  5],\n",
       "       [12, 13]])"
      ]
     },
     "execution_count": 84,
     "metadata": {},
     "output_type": "execute_result"
    }
   ],
   "source": [
    "#Accessing few columns of elements\n",
    "list2d[:,2:4]"
   ]
  },
  {
   "cell_type": "code",
   "execution_count": 95,
   "id": "e86a5b2b-259c-4ab1-a55e-65c268c1b48f",
   "metadata": {},
   "outputs": [],
   "source": [
    "#Copying the dataset\n",
    "list2d=list3d.copy()"
   ]
  },
  {
   "cell_type": "markdown",
   "id": "3b93dff9-fd31-4e35-b1fc-65ccc8ced405",
   "metadata": {},
   "source": [
    "## Using Shape Manipulation Fucntions in Array's "
   ]
  },
  {
   "cell_type": "code",
   "execution_count": 136,
   "id": "3e84c00b-25bf-4fb6-95a0-3e89bb1b2dc1",
   "metadata": {},
   "outputs": [],
   "source": [
    "sh_list1=np.array([2,3,4,5,6,7,8,9,0,1])\n",
    "sh_list2=np.array([11,12,13,14,25,16,17,18,19,20])\n",
    "sh_list2d=np.array([sh_list1,sh_list2])"
   ]
  },
  {
   "cell_type": "code",
   "execution_count": 137,
   "id": "253d2d30-7560-49b7-aae6-7829541a4f38",
   "metadata": {},
   "outputs": [
    {
     "data": {
      "text/plain": [
       "array([ 2,  3,  4,  5,  6,  7,  8,  9,  0,  1, 11, 12, 13, 14, 25, 16, 17,\n",
       "       18, 19, 20])"
      ]
     },
     "execution_count": 137,
     "metadata": {},
     "output_type": "execute_result"
    }
   ],
   "source": [
    "#Using Ravel function to flatten the array into a single row\n",
    "sh_list2d.ravel()"
   ]
  },
  {
   "cell_type": "code",
   "execution_count": 138,
   "id": "10eaa3b1-b22a-4d9d-9b7b-3364636f5599",
   "metadata": {},
   "outputs": [
    {
     "name": "stdout",
     "output_type": "stream",
     "text": [
      "None\n"
     ]
    }
   ],
   "source": [
    "#Using reshape function to change the dimension of the array\n",
    "sh_reshape=sh_list2d.reshape(4,5)\n",
    "print(sh_resize)"
   ]
  },
  {
   "cell_type": "code",
   "execution_count": 139,
   "id": "a628a1b7-3768-4ffc-9675-77439d6019e3",
   "metadata": {},
   "outputs": [
    {
     "name": "stdout",
     "output_type": "stream",
     "text": [
      "[ 2  3  4  5  6  7  8  9  0  1 11 12 13 14 25 16 17 18 19 20]\n"
     ]
    }
   ],
   "source": [
    "#Using hstack function\n",
    "sh_stack=np.hstack((sh_list1,sh_list2))\n",
    "print(sh_stack)"
   ]
  },
  {
   "cell_type": "code",
   "execution_count": 140,
   "id": "531115f9-e735-4fa0-ba9a-52d6f159d5cc",
   "metadata": {},
   "outputs": [
    {
     "data": {
      "text/plain": [
       "array([[ 2, 11],\n",
       "       [ 3, 12],\n",
       "       [ 4, 13],\n",
       "       [ 5, 14],\n",
       "       [ 6, 25],\n",
       "       [ 7, 16],\n",
       "       [ 8, 17],\n",
       "       [ 9, 18],\n",
       "       [ 0, 19],\n",
       "       [ 1, 20]])"
      ]
     },
     "execution_count": 140,
     "metadata": {},
     "output_type": "execute_result"
    }
   ],
   "source": [
    "#Using Transpose function\n",
    "sh_transposed=sh_list2d.transpose()\n",
    "sh_transposed"
   ]
  },
  {
   "cell_type": "code",
   "execution_count": 170,
   "id": "6a3ae5f8-8ce0-4cd6-b6dd-8de13ae8f391",
   "metadata": {},
   "outputs": [
    {
     "name": "stdout",
     "output_type": "stream",
     "text": [
      "7\n"
     ]
    }
   ],
   "source": [
    "#Using trace to find sum of diagonal elements\n",
    "arr_trace=np.array([[1,3],[7,6]])\n",
    "sh_trace= np.trace(arr_trace)\n",
    "print(sh_trace)"
   ]
  }
 ],
 "metadata": {
  "kernelspec": {
   "display_name": "Python 3 (ipykernel)",
   "language": "python",
   "name": "python3"
  },
  "language_info": {
   "codemirror_mode": {
    "name": "ipython",
    "version": 3
   },
   "file_extension": ".py",
   "mimetype": "text/x-python",
   "name": "python",
   "nbconvert_exporter": "python",
   "pygments_lexer": "ipython3",
   "version": "3.9.7"
  }
 },
 "nbformat": 4,
 "nbformat_minor": 5
}
