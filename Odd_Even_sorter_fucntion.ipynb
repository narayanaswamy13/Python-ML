{
  "nbformat": 4,
  "nbformat_minor": 0,
  "metadata": {
    "colab": {
      "name": "Odd_Even_sorter_fucntion.ipynb",
      "provenance": [],
      "collapsed_sections": [],
      "authorship_tag": "ABX9TyMOzDEEniU3bU7gKXlClh0+",
      "include_colab_link": true
    },
    "kernelspec": {
      "name": "python3",
      "display_name": "Python 3"
    },
    "language_info": {
      "name": "python"
    }
  },
  "cells": [
    {
      "cell_type": "markdown",
      "metadata": {
        "id": "view-in-github",
        "colab_type": "text"
      },
      "source": [
        "<a href=\"https://colab.research.google.com/github/narayanaswamy13/Python_code_Snippets/blob/main/Odd_Even_sorter_fucntion.ipynb\" target=\"_parent\"><img src=\"https://colab.research.google.com/assets/colab-badge.svg\" alt=\"Open In Colab\"/></a>"
      ]
    },
    {
      "cell_type": "code",
      "execution_count": null,
      "metadata": {
        "id": "p5NluEhAcOG3"
      },
      "outputs": [],
      "source": [
        "#The function is used for sorting the given set of numbers into odd and even\n",
        "#number sets\n",
        "def odd_even_sorter(sortlist):\n",
        "#This section coverst the pre-requisit list and dict for the function  \n",
        "  even_list=[]\n",
        "  odd_list=[]\n",
        "  sortedlist={'odd':[],'even':[]}\n",
        "#for loop covering the sorting aspect\n",
        "  for i in sortlist:\n",
        "    if (i%2!=0):\n",
        "      odd_list.append(i)\n",
        "    else:\n",
        "      even_list.append(i)\n",
        "#sorted values are appended to the respective dictionary keys\n",
        "  sortedlist['even'].append(even_list)\n",
        "  sortedlist['odd'].append(odd_list)\n",
        "#outputs the values of the dictionary for visibility\n",
        "  return(\"These are the sorted values\",sortedlist)\n"
      ]
    },
    {
      "cell_type": "code",
      "source": [
        "sortlist=range(1,15)\n",
        "odd_even_sorter(sortlist)"
      ],
      "metadata": {
        "colab": {
          "base_uri": "https://localhost:8080/"
        },
        "id": "28P9M4EbiiKo",
        "outputId": "62964ab2-5d43-4872-f857-e45625445ad3"
      },
      "execution_count": null,
      "outputs": [
        {
          "output_type": "execute_result",
          "data": {
            "text/plain": [
              "('These are the sorted values',\n",
              " {'even': [[2, 4, 6, 8, 10, 12, 14]], 'odd': [[1, 3, 5, 7, 9, 11, 13]]})"
            ]
          },
          "metadata": {},
          "execution_count": 75
        }
      ]
    }
  ]
}