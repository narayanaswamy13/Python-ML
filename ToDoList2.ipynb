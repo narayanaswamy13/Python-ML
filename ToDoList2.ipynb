{
  "nbformat": 4,
  "nbformat_minor": 0,
  "metadata": {
    "colab": {
      "name": "ToDoList2.ipynb",
      "provenance": [],
      "authorship_tag": "ABX9TyMEQ0NUDXOp42Ltu+06JLJt",
      "include_colab_link": true
    },
    "kernelspec": {
      "name": "python3",
      "display_name": "Python 3"
    },
    "language_info": {
      "name": "python"
    }
  },
  "cells": [
    {
      "cell_type": "markdown",
      "metadata": {
        "id": "view-in-github",
        "colab_type": "text"
      },
      "source": [
        "<a href=\"https://colab.research.google.com/github/narayanaswamy13/Python_code_Snippets/blob/main/ToDoList2.ipynb\" target=\"_parent\"><img src=\"https://colab.research.google.com/assets/colab-badge.svg\" alt=\"Open In Colab\"/></a>"
      ]
    },
    {
      "cell_type": "markdown",
      "source": [
        "#Creating TO DO list with following function\n",
        "1. Create\n",
        "2. Edit\n",
        "3. Show\n",
        "4. Show All\n",
        "5. Delete\n",
        "6. Delete All"
      ],
      "metadata": {
        "id": "qG0bCyprg7G8"
      }
    },
    {
      "cell_type": "markdown",
      "source": [
        "##Function attributes\n",
        "1. Content\n",
        "2. TaskID"
      ],
      "metadata": {
        "id": "nOuLi2GqhT3d"
      }
    },
    {
      "cell_type": "code",
      "source": [
        "#Creating Base containers\n",
        "ToDoList=[]   #Base List for the application\n",
        "TaskList={1:'create',2:'Edit',3:'show all',4:'delete',5:'delete all'}  #Creating tasklist dict"
      ],
      "metadata": {
        "id": "XbFWFimjU8_I"
      },
      "execution_count": 1,
      "outputs": []
    },
    {
      "cell_type": "code",
      "source": [
        "#Creating Create Function\n",
        "def create(TaskData):\n",
        "  while True:\n",
        "    Confirmation=input('\\n Confirm submition with Yes or No:')\n",
        "    try:\n",
        "      if Confirmation.lower()=='yes':\n",
        "        ToDoList.append(TaskData)\n",
        "      elif Confirmation.lower()=='no':\n",
        "        TaskData=input('Mention the task details here:')\n",
        "        continue\n",
        "      else:\n",
        "        print('\\n share correct input between yes or no \\n')\n",
        "        continue\n",
        "    except(IndexError,KeyError,ValueError):\n",
        "        print('\\n share correct input between yes or no \\n')\n",
        "        continue\n",
        "    else:\n",
        "      taskid=ToDoList.index(TaskData)+1\n",
        "      print('The task is created and the task ID is '+ str(taskid))\n",
        "      break"
      ],
      "metadata": {
        "id": "EpNrBFjog-vU"
      },
      "execution_count": 2,
      "outputs": []
    },
    {
      "cell_type": "code",
      "source": [
        "#Creating Show function\n",
        "def Show(dummy=10):\n",
        "  if len(ToDoList)==0:\n",
        "    print('There are no tasks in the To do list')\n",
        "  else:\n",
        "    for index, value in enumerate(ToDoList):\n",
        "      print(index+1,\".....\", value)"
      ],
      "metadata": {
        "id": "X-XGM1jDumDE"
      },
      "execution_count": 3,
      "outputs": []
    },
    {
      "cell_type": "code",
      "source": [
        "#Creating Edit function\n",
        "def Edit(TaskId):\n",
        "  while True:\n",
        "    UpdatedData=input('Share corrected task details: ')\n",
        "    Confirmation=input('\\n Confirm submition with Yes or No:')\n",
        "    try:\n",
        "      if Confirmation.lower()=='yes':\n",
        "        _zz=int(TaskId)-1\n",
        "        ToDoList[_zz]=UpdatedData\n",
        "      elif Confirmation.lower()=='no':\n",
        "        TaskData=input('Share corrected task details: ')\n",
        "        continue\n",
        "      else:\n",
        "        print('\\n share correct input between yes or no \\n')\n",
        "        continue\n",
        "    except(IndexError,KeyError,ValueError):\n",
        "      print('\\n share correct input between yes or no \\n')\n",
        "      continue\n",
        "    else:\n",
        "      print('\\n Task ID '+str(TaskId)+' is updated as per request')\n",
        "      break"
      ],
      "metadata": {
        "id": "uaOv19oTq1rp"
      },
      "execution_count": 4,
      "outputs": []
    },
    {
      "cell_type": "code",
      "source": [
        "#Creating operation function\n",
        "def operation(action):\n",
        "  if action=='create':\n",
        "    TaskData=input('Mention the task details here: ')\n",
        "    create(TaskData)\n",
        "  elif action=='Edit':\n",
        "    Show()\n",
        "    TaskId=input('Mention the task to be edited: ')\n",
        "    Edit(TaskId)\n",
        "  elif action=='Show All':\n",
        "    Show()\n",
        "  elif action=='Delete':\n",
        "    Show()\n",
        "    TaskId=int(input('Mention the task to be edited: '))\n",
        "    RemTask=ToDoList.pop(TaskId-1)\n",
        "    print('The task ID ',TaskId,'. ',RemTask,' is removed from the list')\n",
        "  elif action=='Delete All':\n",
        "    ToDoList.clear()\n",
        "    print(\"All Tasks in the To Do list have been cleared\")"
      ],
      "metadata": {
        "id": "9aLvjjuIoofp"
      },
      "execution_count": 5,
      "outputs": []
    },
    {
      "cell_type": "code",
      "source": [
        "#Creating Input display\n",
        "while True:\n",
        "  try:\n",
        "    print('Choose the required option\\n 1. create\\n 2. Edit\\n 3. Show All \\n 4. Delete \\n 5. Delete All \\n 6. Exit')\n",
        "    TaskType=int(input('Please select the action number from above:'))\n",
        "    if TaskType<=5:\n",
        "      action=TaskList[TaskType]\n",
        "      print(\"'\"+ action +\"'\"+   'Task will be executed')\n",
        "      operation(action)\n",
        "    elif TaskType==6:\n",
        "      print('\\n close application? \\n')\n",
        "      _z=input('Confirm with Yes or No:')\n",
        "      if _z.lower()=='yes':\n",
        "        break \n",
        "      elif _z.lower()=='no':\n",
        "        continue\n",
        "    else:\n",
        "      print('Please choose correct option between 1 to 6')\n",
        "      continue\n",
        "  except(IndexError,KeyError,ValueError):\n",
        "    print('Please choose correct option between 1 to 6')\n",
        "    continue\n",
        "  else:\n",
        "      print('\\n close application? \\n')\n",
        "      _z=input('Confirm with Yes or No:')\n",
        "      if _z.lower()=='yes':\n",
        "        break \n",
        "      elif _z.lower()=='no':\n",
        "        continue"
      ],
      "metadata": {
        "colab": {
          "base_uri": "https://localhost:8080/"
        },
        "id": "zZgyrNCYVeNl",
        "outputId": "a4226cb6-2767-410e-f9ec-e48c112592ae"
      },
      "execution_count": 6,
      "outputs": [
        {
          "name": "stdout",
          "output_type": "stream",
          "text": [
            "Choose the required option\n",
            " 1. create\n",
            " 2. Edit\n",
            " 3. Show All \n",
            " 4. Delete \n",
            " 5. Delete All \n",
            " 6. Exit\n",
            "Please select the action number from above:3\n",
            "'show all'Task will be executed\n",
            "\n",
            " close application? \n",
            "\n",
            "Confirm with Yes or No:yes\n"
          ]
        }
      ]
    }
  ]
}